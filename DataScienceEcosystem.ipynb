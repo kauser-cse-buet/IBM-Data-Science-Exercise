{
 "cells": [
  {
   "cell_type": "markdown",
   "id": "dd7e1c8d-128a-48d3-a43e-c2348fac70eb",
   "metadata": {
    "panel-layout": {
     "height": 51.140625,
     "visible": true,
     "width": 100
    }
   },
   "source": [
    "# Data Science Tools and Ecosystem"
   ]
  },
  {
   "cell_type": "markdown",
   "id": "d9fb0779-82b8-4851-85b1-ca891b0f0913",
   "metadata": {},
   "source": [
    "In this notebook, Data Science Tools and Ecosystem are summarized.\n",
    "\n"
   ]
  },
  {
   "cell_type": "markdown",
   "id": "9d2b4bfc-a215-4516-8509-8e229765c902",
   "metadata": {},
   "source": [
    "Some of the popular languages that Data Scientists use are:\r",
    "1. Python\n",
    "2. Java\n",
    "3. R\n",
    "4. Scala\n",
    "5. Julia\n"
   ]
  },
  {
   "cell_type": "markdown",
   "id": "c60cdfed-c2b9-47b5-b0d8-5b72afdebdb0",
   "metadata": {},
   "source": [
    "Some of the commonly used libraries used by Data Scientists include:\n",
    "1. scikit learn\n",
    "2. pandas\n",
    "3. numpy\n",
    "4. tensorflow\n",
    "5. keras"
   ]
  },
  {
   "cell_type": "markdown",
   "id": "3a692be5-c3e5-47bb-972b-a67b3ef40a4a",
   "metadata": {},
   "source": [
    "| Data Science Tools |\n",
    "|--------------------|\n",
    "| Jupyter Notebook   |\n",
    "| RStudio            |\n",
    "| VS Code            |"
   ]
  },
  {
   "cell_type": "markdown",
   "id": "8d2f0f2d-42d5-4de1-bf62-ec371b2e28db",
   "metadata": {},
   "source": [
    "### Below are a few examples of evaluating arithmetic expressions in Python"
   ]
  },
  {
   "cell_type": "code",
   "execution_count": 8,
   "id": "24707b1b-1902-4b62-9290-bc2d87d94877",
   "metadata": {},
   "outputs": [
    {
     "data": {
      "text/plain": [
       "17"
      ]
     },
     "execution_count": 8,
     "metadata": {},
     "output_type": "execute_result"
    }
   ],
   "source": [
    "# This a simple arithmetic expression to mutiply then add integers\n",
    "(3*4)+5"
   ]
  },
  {
   "cell_type": "code",
   "execution_count": 9,
   "id": "4da6012c-8497-42d1-b58c-b65458f20e0d",
   "metadata": {},
   "outputs": [
    {
     "data": {
      "text/plain": [
       "3.3333333333333335"
      ]
     },
     "execution_count": 9,
     "metadata": {},
     "output_type": "execute_result"
    }
   ],
   "source": [
    "# This will convert 200 minutes to hours by diving by 60\n",
    "200/60"
   ]
  },
  {
   "cell_type": "markdown",
   "id": "fee2de06-5f40-4b93-aeeb-1eabf587568d",
   "metadata": {},
   "source": [
    "**Objectives:**\n",
    "- List popular languages for Data Science\n",
    "- List commonly used libraries used by Data Scientists include\n",
    "- List data science tools"
   ]
  },
  {
   "cell_type": "markdown",
   "id": "6a52da97-b153-44ba-ae24-27c5a3b9aee5",
   "metadata": {},
   "source": [
    "## Author\n",
    "Md Kauser Ahmmed"
   ]
  },
  {
   "cell_type": "code",
   "execution_count": null,
   "id": "d0f3dc8e-8805-41c0-80db-1e1820854969",
   "metadata": {},
   "outputs": [],
   "source": []
  }
 ],
 "metadata": {
  "kernelspec": {
   "display_name": "Python 3 (ipykernel)",
   "language": "python",
   "name": "python3"
  },
  "language_info": {
   "codemirror_mode": {
    "name": "ipython",
    "version": 3
   },
   "file_extension": ".py",
   "mimetype": "text/x-python",
   "name": "python",
   "nbconvert_exporter": "python",
   "pygments_lexer": "ipython3",
   "version": "3.12.4"
  },
  "panel-cell-order": [
   "dd7e1c8d-128a-48d3-a43e-c2348fac70eb"
  ]
 },
 "nbformat": 4,
 "nbformat_minor": 5
}
